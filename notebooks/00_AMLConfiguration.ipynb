{
 "cells": [
  {
   "cell_type": "markdown",
   "metadata": {},
   "source": [
    "# ai-architecture-template - 00_AMLConfiguration.ipynb\n",
    "TODO: Update with new repo name\n",
    "\n",
    "Copyright (c) Microsoft Corporation. All rights reserved.\n",
    "\n",
    "Licensed under the MIT License.\n",
    "\n",
    "# Installation and configuration\n",
    "This notebook configures the notebooks in this tutorial to connect to an Azure Machine Learning (AML) Workspace.  \n",
    "You can use an existing workspace or create a new one.\n",
    "\n",
    "## Prerequisites\n",
    "\n",
    "If you have already completed the prerequisites and selected the correct Kernel for this notebook, the AML Python SDK \n",
    "is already installed. Let's load the imports and check the AML SDK version."
   ]
  },
  {
   "cell_type": "code",
   "execution_count": null,
   "metadata": {
    "pycharm": {
     "name": "#%%\n"
    }
   },
   "outputs": [],
   "source": [
    "import json\n",
    "\n",
    "import azureml.core\n",
    "from azure_utils.machine_learning.utils import load_configuration, get_or_create_workspace\n",
    "\n",
    "print(\"AML SDK Version:\", azureml.core.VERSION)"
   ]
  },
  {
   "cell_type": "markdown",
   "metadata": {},
   "source": [
    "## Set up your Azure Machine Learning workspace\n",
    "## Load Configurations from file\n",
    "\n",
    "Configurations are loaded from a file, to prevent accident commits of Azure secerts into source control.\n",
    "This file name is included in the .gitignore to also prevent accident commits. A template file is included that should\n",
    "be copied, and each parameter filled in."
   ]
  },
  {
   "cell_type": "code",
   "execution_count": null,
   "metadata": {
    "pycharm": {
     "name": "#%%\n"
    }
   },
   "outputs": [],
   "source": [
    "cfg = load_configuration(\"../workspace_conf.yml\")"
   ]
  },
  {
   "cell_type": "markdown",
   "metadata": {},
   "source": [
    "## Load Configurations into Notebook.\n",
    "\n",
    "The following cell loads the configurations from the local file, into the notebook memory. The following cell is also\n",
    "marked as a parameter cell. When using this notebook with [papermill](https://github.com/nteract/papermill), these\n",
    "parameters can be override. See the tests for examples."
   ]
  },
  {
   "cell_type": "code",
   "execution_count": null,
   "metadata": {
    "pycharm": {
     "name": "#%%\n"
    },
    "tags": [
     "parameters"
    ]
   },
   "outputs": [],
   "source": [
    "subscription_id = cfg['subscription_id']\n",
    "resource_group = cfg['resource_group']\n",
    "workspace_name = cfg['workspace_name']\n",
    "workspace_region = cfg['workspace_region']"
   ]
  },
  {
   "cell_type": "markdown",
   "metadata": {},
   "source": [
    "## Create the workspace\n",
    "This cell will create an AML workspace for you in a subscription, provided you have the correct permissions.\n",
    "\n",
    "This will fail when:\n",
    "1. You do not have permission to create a workspace in the resource group\n",
    "1. You do not have permission to create a resource group if it's non-existing.\n",
    "1. You are not a subscription owner or contributor and no Azure ML workspaces have ever been created in this \n",
    "subscription\n",
    "\n",
    "If workspace creation fails, please work with your IT admin to provide you with the appropriate permissions or to \n",
    "provision the required resources. If this cell succeeds, you're done configuring AML!\n"
   ]
  },
  {
   "cell_type": "code",
   "execution_count": null,
   "metadata": {
    "pycharm": {
     "name": "#%%\n"
    }
   },
   "outputs": [],
   "source": [
    "ws = get_or_create_workspace(workspace_name, subscription_id, resource_group, workspace_region)\n",
    "ws_json = ws.get_details()"
   ]
  },
  {
   "cell_type": "markdown",
   "metadata": {},
   "source": [
    "Let's check the details of the workspace."
   ]
  },
  {
   "cell_type": "code",
   "execution_count": null,
   "metadata": {
    "pycharm": {
     "name": "#%%\n"
    }
   },
   "outputs": [],
   "source": [
    "print(json.dumps(ws_json, indent=2))"
   ]
  },
  {
   "cell_type": "markdown",
   "metadata": {},
   "source": [
    "You are now ready to move on to the [AutoML Local](01_DataPrep.ipynb) notebook."
   ]
  }
 ],
 "metadata": {
  "celltoolbar": "Tags",
  "kernelspec": {
   "display_name": "Python 3",
   "language": "python",
   "name": "python3"
  },
  "language_info": {
   "codemirror_mode": {
    "name": "ipython",
    "version": 3
   },
   "file_extension": ".py",
   "mimetype": "text/x-python",
   "name": "python",
   "nbconvert_exporter": "python",
   "pygments_lexer": "ipython3",
   "version": "3.6.2"
  },
  "pycharm": {
   "stem_cell": {
    "cell_type": "raw",
    "source": [],
    "metadata": {
     "collapsed": false
    }
   }
  }
 },
 "nbformat": 4,
 "nbformat_minor": 2
}